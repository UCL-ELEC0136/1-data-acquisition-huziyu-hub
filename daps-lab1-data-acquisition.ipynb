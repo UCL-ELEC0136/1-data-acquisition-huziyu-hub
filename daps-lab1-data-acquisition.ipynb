{
 "cells": [
  {
   "cell_type": "markdown",
   "metadata": {
    "id": "jenv-YgSElT1"
   },
   "source": [
    "# Task 1: Small case scenario of dataset analysis"
   ]
  },
  {
   "cell_type": "markdown",
   "metadata": {
    "id": "pZ6YahZgAZvB"
   },
   "source": [
    "## 1.1 - Create a dataset (The Tate Collection)\n",
    "As a first example, we will create our own small dataset. In particular, the dataset will consist of 10 artists which are present in the Tate Collection along with the corresponding year of birth, year of death, biological gender and number of artworks.\n",
    "\n",
    "|          Name         | Gender |   Year_Birth  |   Year_Death  | N_works |\n",
    "|-----------------------|--------|---------------|---------------|---------|\n",
    "|     Beuys, Joseph     |  Male  |      1921\t |      1986     |   588   |\n",
    "|    Constable, John    |  Male  |      1776\t |      1837\t |   249   |\n",
    "|   Daniell, William    |  Male  |      1769\t |      1837\t |   612   |\n",
    "|   Forbes, Elizabeth   | Female |      1859\t |      1912\t |   120   |\n",
    "|     Flaxman, John     |  Male  |      1755\t |      1826\t |   287   |\n",
    "|    Phillips, Thomas   |  Male  |      1770\t |      1845\t |   274   |\n",
    "| Paolozzi, Sir Eduardo |  Male  |      1924\t |      2005\t |   385   |\n",
    "|     Schendel, Mira    | Female |      1919\t |      1988\t |    3    |\n",
    "|    Turner, William    |  Male  |      1775\t |      1851\t |  1861   |\n",
    "|      Warhol, Andy     |  Male  |      1928\t |      1987\t |   272   |\n"
   ]
  },
  {
   "cell_type": "markdown",
   "metadata": {
    "id": "TV1sgIOzAZvD"
   },
   "source": [
    "**_[TO DO]_**: Let's create a DataFrame named **TateDataset** with the information showed in the above table.\n",
    "\n",
    "**Note:** You can create arrays for each column and then build the DataFrame.\n",
    "Remember to import the required libraries!"
   ]
  },
  {
   "cell_type": "code",
   "execution_count": 1,
   "metadata": {
    "cellView": "form",
    "executionInfo": {
     "elapsed": 428,
     "status": "ok",
     "timestamp": 1603899361329,
     "user": {
      "displayName": "Sephora Madjiheurem",
      "photoUrl": "https://lh3.googleusercontent.com/a-/AOh14GgieP2Hh5x42748iuuSEnAl8BYCWGSmOzJ-ypgSaQ=s64",
      "userId": "05055971560005673839"
     },
     "user_tz": 0
    },
    "id": "NxkzhjIGAZvF"
   },
   "outputs": [],
   "source": [
    "# @title Imports\n",
    "import numpy as np\n",
    "import pandas as pd\n"
   ]
  },
  {
   "cell_type": "code",
   "execution_count": 3,
   "metadata": {
    "id": "FWsJFvTQB3hX"
   },
   "outputs": [
    {
     "name": "stdout",
     "output_type": "stream",
     "text": [
      "                   Name  Gender Year_Birth Year_Death N_works\n",
      "0          Beuys,Joseph    Male       1921       1986     588\n",
      "1        Constable,John    Male       1776       1837     249\n",
      "2       Daniell,William    Male       1769       1837     612\n",
      "3      Forbes,Elizabeth  Female       1859       1912     120\n",
      "4          Flaxman,John    Male       1755       1826     287\n",
      "5       Phillips,Thomas    Male       1770       1845     274\n",
      "6  Paolozzi Sir Eduardo    Male       1924       2005     385\n",
      "7         SChendel,Mira  Female       1919       1988       3\n",
      "8        Turner,William    Male       1775       1851    1861\n",
      "9           Warhol,Andy    Male       1928       1987     272\n"
     ]
    }
   ],
   "source": [
    "### TODO\n",
    "tate_dataset = np.array([[\"Beuys,Joseph\",\"Male\",1921,1986,588],[\"Constable,John\",\"Male\",1776,1837,249],\n",
    "[\"Daniell,William\",\"Male\",1769,1837,612],[\"Forbes,Elizabeth\",\"Female\",1859,1912,120],\n",
    "[\"Flaxman,John\",\"Male\",1755,1826,287],[\"Phillips,Thomas\",\"Male\",1770,1845,274],\n",
    "[\"Paolozzi Sir Eduardo\",\"Male\",1924,2005,385],[\"SChendel,Mira\",\"Female\",1919,1988,3],[\"Turner,William\",\"Male\",1775,1851,1861],[\"Warhol,Andy\",\"Male\",1928,1987,272]])\n",
    "\n",
    "tate_dataset = pd.DataFrame(tate_dataset,columns=[\"Name\",\"Gender\",\"Year_Birth\",\"Year_Death\",\"N_works\"])\n",
    "print(tate_dataset)"
   ]
  },
  {
   "cell_type": "markdown",
   "metadata": {
    "id": "0P3DpT-VAZvO"
   },
   "source": [
    "## 1.2 - Data Acquisition (local file)\n",
    "\n",
    "Data acquisition is a process of loading and reading data from various sources. We will learn how to export and read data from a local file in different format using  **Pandas** package. \n",
    "\n",
    "A file format is a standardised way in which information is encoded to be stored in a file. Some examples of file formats are: CSV, XLSX, and PKL. \n",
    "\n",
    "Let's practice with some examples.\n",
    "\n",
    "### .CSV - Comma Separated Values\n",
    "\n",
    "CSV is one of the most popular spreadsheet file format. In this kind of file, data is stored in cells. Each cell is organized in rows and columns. A column in the spreadsheet file can have different types. \n",
    "\n",
    "Let us look at how to create a CSV file. We can export a DataFrame with the Pandas function `to_csv()`. The file will be saved in the same location of this notebook unless specified otherwise. We can name the file **TateData.csv**.\n",
    "\n",
    "**Note:** Once you have run the following cell, check the output file ."
   ]
  },
  {
   "cell_type": "code",
   "execution_count": 9,
   "metadata": {
    "id": "DcFThhwRAZvP"
   },
   "outputs": [],
   "source": [
    "tate_dataset.to_csv('tate_dataset.csv', index=False, header=True)"
   ]
  },
  {
   "cell_type": "markdown",
   "metadata": {
    "id": "54BZQJs8AZvU"
   },
   "source": [
    "To pull in the csv file, we will use the Pandas function `read_csv()`. We will import the previous file in a new DataFrame.\n",
    "\n",
    "**Note:**  Depending on where you save your notebooks, you may need to modify the location below."
   ]
  },
  {
   "cell_type": "code",
   "execution_count": 5,
   "metadata": {
    "id": "PcO3epU5AZvV"
   },
   "outputs": [
    {
     "data": {
      "text/html": [
       "<div>\n",
       "<style scoped>\n",
       "    .dataframe tbody tr th:only-of-type {\n",
       "        vertical-align: middle;\n",
       "    }\n",
       "\n",
       "    .dataframe tbody tr th {\n",
       "        vertical-align: top;\n",
       "    }\n",
       "\n",
       "    .dataframe thead th {\n",
       "        text-align: right;\n",
       "    }\n",
       "</style>\n",
       "<table border=\"1\" class=\"dataframe\">\n",
       "  <thead>\n",
       "    <tr style=\"text-align: right;\">\n",
       "      <th></th>\n",
       "      <th>Name</th>\n",
       "      <th>Gender</th>\n",
       "      <th>Year_Birth</th>\n",
       "      <th>Year_Death</th>\n",
       "      <th>N_works</th>\n",
       "    </tr>\n",
       "  </thead>\n",
       "  <tbody>\n",
       "    <tr>\n",
       "      <th>0</th>\n",
       "      <td>Beuys,Joseph</td>\n",
       "      <td>Male</td>\n",
       "      <td>1921</td>\n",
       "      <td>1986</td>\n",
       "      <td>588</td>\n",
       "    </tr>\n",
       "    <tr>\n",
       "      <th>1</th>\n",
       "      <td>Constable,John</td>\n",
       "      <td>Male</td>\n",
       "      <td>1776</td>\n",
       "      <td>1837</td>\n",
       "      <td>249</td>\n",
       "    </tr>\n",
       "    <tr>\n",
       "      <th>2</th>\n",
       "      <td>Daniell,William</td>\n",
       "      <td>Male</td>\n",
       "      <td>1769</td>\n",
       "      <td>1837</td>\n",
       "      <td>612</td>\n",
       "    </tr>\n",
       "    <tr>\n",
       "      <th>3</th>\n",
       "      <td>Forbes,Elizabeth</td>\n",
       "      <td>Female</td>\n",
       "      <td>1859</td>\n",
       "      <td>1912</td>\n",
       "      <td>120</td>\n",
       "    </tr>\n",
       "    <tr>\n",
       "      <th>4</th>\n",
       "      <td>Flaxman,John</td>\n",
       "      <td>Male</td>\n",
       "      <td>1755</td>\n",
       "      <td>1826</td>\n",
       "      <td>287</td>\n",
       "    </tr>\n",
       "    <tr>\n",
       "      <th>5</th>\n",
       "      <td>Phillips,Thomas</td>\n",
       "      <td>Male</td>\n",
       "      <td>1770</td>\n",
       "      <td>1845</td>\n",
       "      <td>274</td>\n",
       "    </tr>\n",
       "    <tr>\n",
       "      <th>6</th>\n",
       "      <td>Paolozzi Sir Eduardo</td>\n",
       "      <td>Male</td>\n",
       "      <td>1924</td>\n",
       "      <td>2005</td>\n",
       "      <td>385</td>\n",
       "    </tr>\n",
       "    <tr>\n",
       "      <th>7</th>\n",
       "      <td>SChendel,Mira</td>\n",
       "      <td>Female</td>\n",
       "      <td>1919</td>\n",
       "      <td>1988</td>\n",
       "      <td>3</td>\n",
       "    </tr>\n",
       "    <tr>\n",
       "      <th>8</th>\n",
       "      <td>Turner,William</td>\n",
       "      <td>Male</td>\n",
       "      <td>1775</td>\n",
       "      <td>1851</td>\n",
       "      <td>1861</td>\n",
       "    </tr>\n",
       "    <tr>\n",
       "      <th>9</th>\n",
       "      <td>Warhol,Andy</td>\n",
       "      <td>Male</td>\n",
       "      <td>1928</td>\n",
       "      <td>1987</td>\n",
       "      <td>272</td>\n",
       "    </tr>\n",
       "  </tbody>\n",
       "</table>\n",
       "</div>"
      ],
      "text/plain": [
       "                   Name  Gender  Year_Birth  Year_Death  N_works\n",
       "0          Beuys,Joseph    Male        1921        1986      588\n",
       "1        Constable,John    Male        1776        1837      249\n",
       "2       Daniell,William    Male        1769        1837      612\n",
       "3      Forbes,Elizabeth  Female        1859        1912      120\n",
       "4          Flaxman,John    Male        1755        1826      287\n",
       "5       Phillips,Thomas    Male        1770        1845      274\n",
       "6  Paolozzi Sir Eduardo    Male        1924        2005      385\n",
       "7         SChendel,Mira  Female        1919        1988        3\n",
       "8        Turner,William    Male        1775        1851     1861\n",
       "9           Warhol,Andy    Male        1928        1987      272"
      ]
     },
     "execution_count": 5,
     "metadata": {},
     "output_type": "execute_result"
    }
   ],
   "source": [
    "tate_1 = pd.read_csv('tate_dataset.csv')\n",
    "tate_1"
   ]
  },
  {
   "cell_type": "markdown",
   "metadata": {
    "id": "1CmXNd9jAZva"
   },
   "source": [
    "When we create the .CSV file, the only parameter we have used is **index**. \n",
    "\n",
    "**[TO DO]** What happens if we set the *index* parameter to True? And if you set also the parameter **header** to False?\n",
    "Try by yourself. "
   ]
  },
  {
   "cell_type": "code",
   "execution_count": 20,
   "metadata": {
    "id": "egR7HZLaAZvb"
   },
   "outputs": [
    {
     "name": "stdout",
     "output_type": "stream",
     "text": [
      "   Unnamed: 0                  Name  Gender  Year_Birth  Year_Death  N_works\n",
      "0           0          Beuys,Joseph    Male        1921        1986      588\n",
      "1           1        Constable,John    Male        1776        1837      249\n",
      "2           2       Daniell,William    Male        1769        1837      612\n",
      "3           3      Forbes,Elizabeth  Female        1859        1912      120\n",
      "4           4          Flaxman,John    Male        1755        1826      287\n",
      "5           5       Phillips,Thomas    Male        1770        1845      274\n",
      "6           6  Paolozzi Sir Eduardo    Male        1924        2005      385\n",
      "7           7         SChendel,Mira  Female        1919        1988        3\n",
      "8           8        Turner,William    Male        1775        1851     1861\n",
      "9           9           Warhol,Andy    Male        1928        1987      272\n",
      " \n",
      "           Beuys,Joseph    Male  1921  1986   588\n",
      "0        Constable,John    Male  1776  1837   249\n",
      "1       Daniell,William    Male  1769  1837   612\n",
      "2      Forbes,Elizabeth  Female  1859  1912   120\n",
      "3          Flaxman,John    Male  1755  1826   287\n",
      "4       Phillips,Thomas    Male  1770  1845   274\n",
      "5  Paolozzi Sir Eduardo    Male  1924  2005   385\n",
      "6         SChendel,Mira  Female  1919  1988     3\n",
      "7        Turner,William    Male  1775  1851  1861\n",
      "8           Warhol,Andy    Male  1928  1987   272\n"
     ]
    }
   ],
   "source": [
    "### TODO\n",
    "tate_dataset.to_csv('tate_dataset.csv', index=True, header=True)\n",
    "tate_2 = pd.read_csv('tate_dataset.csv')\n",
    "print(tate_2)\n",
    "tate_dataset.to_csv('tate_dataset.csv', index=False, header=False)\n",
    "tate_3 = pd.read_csv('tate_dataset.csv')\n",
    "print(\" \")\n",
    "print(tate_3)\n",
    "\n",
    "\n"
   ]
  },
  {
   "cell_type": "markdown",
   "metadata": {
    "id": "0tHt7lPFAZvf"
   },
   "source": [
    "Delete the csv file now that we are done using it."
   ]
  },
  {
   "cell_type": "markdown",
   "metadata": {
    "id": "oQLf1Y_hAZvr"
   },
   "source": [
    "### pickle — Python object serialization\n",
    "\n",
    "This data format is Python-specific. This has the advantage that there are no restrictions imposed by external standards; however it means that non-Python programs may not be able to reconstruct pickled Python objects.\n",
    "\n"
   ]
  },
  {
   "cell_type": "code",
   "execution_count": 21,
   "metadata": {
    "id": "stKRPdBTAZvr"
   },
   "outputs": [],
   "source": [
    "import pickle\n",
    "\n",
    "tate_dataset.to_pickle('tate_dataset.pkl')\n"
   ]
  },
  {
   "cell_type": "code",
   "execution_count": 22,
   "metadata": {
    "id": "Rc7RsQeKAZvt"
   },
   "outputs": [
    {
     "data": {
      "text/html": [
       "<div>\n",
       "<style scoped>\n",
       "    .dataframe tbody tr th:only-of-type {\n",
       "        vertical-align: middle;\n",
       "    }\n",
       "\n",
       "    .dataframe tbody tr th {\n",
       "        vertical-align: top;\n",
       "    }\n",
       "\n",
       "    .dataframe thead th {\n",
       "        text-align: right;\n",
       "    }\n",
       "</style>\n",
       "<table border=\"1\" class=\"dataframe\">\n",
       "  <thead>\n",
       "    <tr style=\"text-align: right;\">\n",
       "      <th></th>\n",
       "      <th>Name</th>\n",
       "      <th>Gender</th>\n",
       "      <th>Year_Birth</th>\n",
       "      <th>Year_Death</th>\n",
       "      <th>N_works</th>\n",
       "    </tr>\n",
       "  </thead>\n",
       "  <tbody>\n",
       "    <tr>\n",
       "      <th>0</th>\n",
       "      <td>Beuys,Joseph</td>\n",
       "      <td>Male</td>\n",
       "      <td>1921</td>\n",
       "      <td>1986</td>\n",
       "      <td>588</td>\n",
       "    </tr>\n",
       "    <tr>\n",
       "      <th>1</th>\n",
       "      <td>Constable,John</td>\n",
       "      <td>Male</td>\n",
       "      <td>1776</td>\n",
       "      <td>1837</td>\n",
       "      <td>249</td>\n",
       "    </tr>\n",
       "    <tr>\n",
       "      <th>2</th>\n",
       "      <td>Daniell,William</td>\n",
       "      <td>Male</td>\n",
       "      <td>1769</td>\n",
       "      <td>1837</td>\n",
       "      <td>612</td>\n",
       "    </tr>\n",
       "    <tr>\n",
       "      <th>3</th>\n",
       "      <td>Forbes,Elizabeth</td>\n",
       "      <td>Female</td>\n",
       "      <td>1859</td>\n",
       "      <td>1912</td>\n",
       "      <td>120</td>\n",
       "    </tr>\n",
       "    <tr>\n",
       "      <th>4</th>\n",
       "      <td>Flaxman,John</td>\n",
       "      <td>Male</td>\n",
       "      <td>1755</td>\n",
       "      <td>1826</td>\n",
       "      <td>287</td>\n",
       "    </tr>\n",
       "    <tr>\n",
       "      <th>5</th>\n",
       "      <td>Phillips,Thomas</td>\n",
       "      <td>Male</td>\n",
       "      <td>1770</td>\n",
       "      <td>1845</td>\n",
       "      <td>274</td>\n",
       "    </tr>\n",
       "    <tr>\n",
       "      <th>6</th>\n",
       "      <td>Paolozzi Sir Eduardo</td>\n",
       "      <td>Male</td>\n",
       "      <td>1924</td>\n",
       "      <td>2005</td>\n",
       "      <td>385</td>\n",
       "    </tr>\n",
       "    <tr>\n",
       "      <th>7</th>\n",
       "      <td>SChendel,Mira</td>\n",
       "      <td>Female</td>\n",
       "      <td>1919</td>\n",
       "      <td>1988</td>\n",
       "      <td>3</td>\n",
       "    </tr>\n",
       "    <tr>\n",
       "      <th>8</th>\n",
       "      <td>Turner,William</td>\n",
       "      <td>Male</td>\n",
       "      <td>1775</td>\n",
       "      <td>1851</td>\n",
       "      <td>1861</td>\n",
       "    </tr>\n",
       "    <tr>\n",
       "      <th>9</th>\n",
       "      <td>Warhol,Andy</td>\n",
       "      <td>Male</td>\n",
       "      <td>1928</td>\n",
       "      <td>1987</td>\n",
       "      <td>272</td>\n",
       "    </tr>\n",
       "  </tbody>\n",
       "</table>\n",
       "</div>"
      ],
      "text/plain": [
       "                   Name  Gender Year_Birth Year_Death N_works\n",
       "0          Beuys,Joseph    Male       1921       1986     588\n",
       "1        Constable,John    Male       1776       1837     249\n",
       "2       Daniell,William    Male       1769       1837     612\n",
       "3      Forbes,Elizabeth  Female       1859       1912     120\n",
       "4          Flaxman,John    Male       1755       1826     287\n",
       "5       Phillips,Thomas    Male       1770       1845     274\n",
       "6  Paolozzi Sir Eduardo    Male       1924       2005     385\n",
       "7         SChendel,Mira  Female       1919       1988       3\n",
       "8        Turner,William    Male       1775       1851    1861\n",
       "9           Warhol,Andy    Male       1928       1987     272"
      ]
     },
     "execution_count": 22,
     "metadata": {},
     "output_type": "execute_result"
    }
   ],
   "source": [
    "tate_2 = pd.read_pickle('tate_dataset.pkl')\n",
    "tate_2"
   ]
  },
  {
   "cell_type": "markdown",
   "metadata": {
    "id": "4vHSnaOQAZvv"
   },
   "source": [
    "## 1.3 - Look at the data\n",
    "\n",
    "Now we will simply have a look at the data and make sure it is clean. \n",
    "\n",
    "### Data type\n",
    "Let's check the data type of the imported variables and the original DataFrame."
   ]
  },
  {
   "cell_type": "code",
   "execution_count": 23,
   "metadata": {
    "id": "AV3eoT35AZvw"
   },
   "outputs": [
    {
     "data": {
      "text/plain": [
       "Name          object\n",
       "Gender        object\n",
       "Year_Birth     int64\n",
       "Year_Death     int64\n",
       "N_works        int64\n",
       "dtype: object"
      ]
     },
     "execution_count": 23,
     "metadata": {},
     "output_type": "execute_result"
    }
   ],
   "source": [
    "# Check data type of the columns for Tate_1\n",
    "tate_1.dtypes"
   ]
  },
  {
   "cell_type": "code",
   "execution_count": 24,
   "metadata": {
    "id": "ACysmIDSAZvy"
   },
   "outputs": [
    {
     "data": {
      "text/plain": [
       "Name          object\n",
       "Gender        object\n",
       "Year_Birth    object\n",
       "Year_Death    object\n",
       "N_works       object\n",
       "dtype: object"
      ]
     },
     "execution_count": 24,
     "metadata": {},
     "output_type": "execute_result"
    }
   ],
   "source": [
    "# Check data type of the columns for TateDataset\n",
    "tate_dataset.dtypes"
   ]
  },
  {
   "cell_type": "markdown",
   "metadata": {
    "id": "T3q0dEk0AZv0"
   },
   "source": [
    "We can also display the values of a single column and check their data type as follow:"
   ]
  },
  {
   "cell_type": "code",
   "execution_count": 25,
   "metadata": {
    "id": "zfMt0x2lAZv0"
   },
   "outputs": [
    {
     "data": {
      "text/plain": [
       "0      Male\n",
       "1      Male\n",
       "2      Male\n",
       "3    Female\n",
       "4      Male\n",
       "5      Male\n",
       "6      Male\n",
       "7    Female\n",
       "8      Male\n",
       "9      Male\n",
       "Name: Gender, dtype: object"
      ]
     },
     "execution_count": 25,
     "metadata": {},
     "output_type": "execute_result"
    }
   ],
   "source": [
    "tate_dataset['Gender']"
   ]
  },
  {
   "cell_type": "markdown",
   "metadata": {
    "id": "hympM9yTEuud"
   },
   "source": [
    "# Task 2: Application Programming Interfaces (APIs)"
   ]
  },
  {
   "cell_type": "markdown",
   "metadata": {
    "id": "vOGrvILtFv0K",
    "tags": []
   },
   "source": [
    "## 2.1 - Downloading climate data from the Internet\n",
    "\n",
    "We will now explore real world data, namely a dataset of climate information of 5 cities in Denmark between 1980-2018. The original raw-data was originally obtained from [National Climatic Data Center (NCDC)](https://www7.ncdc.noaa.gov/CDO/cdoselect.cmd).\n",
    "\n",
    "In particular, the selected cities in Denmark are:\n",
    "- Aalborg, \n",
    "- Aarhus, \n",
    "- Esbjerg, \n",
    "- Odense. \n",
    "- Roskilde\n",
    "\n",
    "In the following, we will download the dataset using an API instead of loading a local source file.\n",
    "\n",
    "### What is an API? \n",
    "Application Programming Interface (API) is a communication protocol between the user and the server (i.e., web server) that enables transmittion of data. The user making a request to an API server can download the desidered resources. \n",
    "\n",
    "### How to make a request in python?\n",
    "There are many different way to request data. \n",
    "In the following, we will use the package **urllib** that collects several modules for working with URLs.\n",
    "\n",
    "In particular, [urlib.request](https://docs.python.org/3/library/urllib.request.html#module-urllib.request) is a module for opening and reading URLs.\n"
   ]
  },
  {
   "cell_type": "markdown",
   "metadata": {
    "id": "DiwhudMrKQUP"
   },
   "source": [
    "### - Download climate data\n",
    "\n",
    "\n",
    "The following functions allow to download and store the dataset in a specific folder.\n",
    "\n",
    "How to use:\n",
    "\n",
    "- Set the source (i.e., URL) of the desidered dataset in `data_url`.\n",
    "- Set the `data_dir` variable with the local directory where to store the data.\n",
    "- Call `download_and_extract()` to download the dataset if it is not already located in the given data_dir.\n",
    "- Load the data in the interactive Python notebook so ic can be used in your scripts (you can use `load_original_data()`)."
   ]
  },
  {
   "cell_type": "code",
   "execution_count": 26,
   "metadata": {
    "cellView": "form",
    "id": "DjVqxHOLE6I4"
   },
   "outputs": [],
   "source": [
    "#@title Functions to download data \n",
    "########################################################################\n",
    "#\n",
    "# This file is a partially modified version of one of the TensorFlow Tutorials available at:\n",
    "#\n",
    "# https://github.com/Hvass-Labs/TensorFlow-Tutorials\n",
    "#\n",
    "# Published under the MIT License. See the file LICENSE for details.\n",
    "#\n",
    "# Copyright 2018 by Magnus Erik Hvass Pedersen\n",
    "#\n",
    "########################################################################\n",
    "\n",
    "import sys\n",
    "import os\n",
    "import urllib.request\n",
    "import tarfile\n",
    "import zipfile\n",
    "\n",
    "\n",
    "\n",
    "def _print_download_progress(count, block_size, total_size):\n",
    "    \"\"\"\n",
    "    Function used for printing the download progress.\n",
    "    Used as a call-back function in maybe_download_and_extract().\n",
    "    \"\"\"\n",
    "\n",
    "    # Percentage completion.\n",
    "    pct_complete = float(count * block_size) / total_size\n",
    "\n",
    "    # Limit it because rounding errors may cause it to exceed 100%.\n",
    "    pct_complete = min(1.0, pct_complete)\n",
    "\n",
    "    # Status-message. Note the \\r which means the line should overwrite itself.\n",
    "    msg = \"\\r- Download progress: {0:.1%}\".format(pct_complete)\n",
    "\n",
    "    # Print it.\n",
    "    sys.stdout.write(msg)\n",
    "    sys.stdout.flush()\n",
    "\n",
    "\n",
    "def download(base_url, filename, download_dir):\n",
    "    \"\"\"\n",
    "    Download the given file if it does not already exist in the download_dir.\n",
    "    :param base_url: The internet URL without the filename.\n",
    "    :param filename: The filename that will be added to the base_url.\n",
    "    :param download_dir: Local directory for storing the file.\n",
    "    \"\"\"\n",
    "\n",
    "    # Path for local file.\n",
    "    save_path = os.path.join(download_dir, filename)\n",
    "\n",
    "    # Check if the file already exists, otherwise we need to download it now.\n",
    "    if not os.path.exists(save_path):\n",
    "        # Check if the download directory exists, otherwise create it.\n",
    "        if not os.path.exists(download_dir):\n",
    "            os.makedirs(download_dir)\n",
    "\n",
    "        print(\"Downloading\", filename, \"...\")\n",
    "\n",
    "        # Download the file from the internet.\n",
    "        url = base_url + filename\n",
    "        file_path, _ = urllib.request.urlretrieve(url=url,\n",
    "                                                  filename=save_path,\n",
    "                                                  reporthook=_print_download_progress)\n",
    "\n",
    "        print(\" Done!\")\n",
    "\n",
    "\n",
    "def download_and_extract(url, download_dir):\n",
    "    \"\"\"\n",
    "    Download and extract the data if it doesn't already exist.\n",
    "    Assumes the url is a tar-ball file.\n",
    "    :param url:\n",
    "        Internet URL for the tar-file to download.\n",
    "    :param download_dir:\n",
    "        Directory where the downloaded file is saved.\n",
    "    \"\"\"\n",
    "\n",
    "    # Filename for saving the file downloaded from the internet.\n",
    "    # Use the filename from the URL and add it to the download_dir.\n",
    "    filename = url.split('/')[-1]\n",
    "    file_path = os.path.join(download_dir, filename)\n",
    "\n",
    "    # Check if the file already exists.\n",
    "    # If it exists then we assume it has also been extracted,\n",
    "    # otherwise we need to download and extract it now.\n",
    "    if not os.path.exists(file_path):\n",
    "        # Check if the download directory exists, otherwise create it.\n",
    "        if not os.path.exists(download_dir):\n",
    "            os.makedirs(download_dir)\n",
    "\n",
    "        # Download the file from the internet.\n",
    "        file_path, _ = urllib.request.urlretrieve(url=url,\n",
    "                                                  filename=file_path,\n",
    "                                                  reporthook=_print_download_progress)\n",
    "\n",
    "        print()\n",
    "        print(\"Download finished. Extracting files.\")\n",
    "\n",
    "        if file_path.endswith(\".zip\"):\n",
    "            # Unpack the zip-file.\n",
    "            zipfile.ZipFile(file=file_path, mode=\"r\").extractall(download_dir)\n",
    "        elif file_path.endswith((\".tar.gz\", \".tgz\")):\n",
    "            # Unpack the tar-ball.\n",
    "            tarfile.open(name=file_path, mode=\"r:gz\").extractall(download_dir)\n",
    "\n",
    "        print(\"Done.\")\n",
    "    else:\n",
    "        print(\"Data has apparently already been downloaded and unpacked.\")\n",
    "        "
   ]
  },
  {
   "cell_type": "markdown",
   "metadata": {
    "id": "jhAOVRKTclRR"
   },
   "source": [
    "First, we define where we want to download the dataset (you are free to choose another directory) and the URL of the dataset to be downloaded."
   ]
  },
  {
   "cell_type": "code",
   "execution_count": 27,
   "metadata": {
    "id": "mPl5lGC_cjRa"
   },
   "outputs": [],
   "source": [
    "# Location of the dataset on the internet.\n",
    "data_url = \"https://github.com/Hvass-Labs/weather-denmark/raw/master/weather-denmark.tar.gz\"\n",
    "\n",
    "# Local directory where you want to download and save the dataset.\n",
    "data_dir = \"weather-data/\""
   ]
  },
  {
   "cell_type": "markdown",
   "metadata": {
    "id": "_fUv_1U7AGIS"
   },
   "source": [
    "Now, we can download the dataset into the chosen local directory"
   ]
  },
  {
   "cell_type": "code",
   "execution_count": 28,
   "metadata": {
    "id": "6P4iL6WfAGIT"
   },
   "outputs": [
    {
     "name": "stdout",
     "output_type": "stream",
     "text": [
      "- Download progress: 100.0%\n",
      "Download finished. Extracting files.\n",
      "Done.\n"
     ]
    }
   ],
   "source": [
    "download_and_extract(url=data_url, download_dir=data_dir)"
   ]
  },
  {
   "cell_type": "markdown",
   "metadata": {
    "id": "sLC9mO_RAGIY"
   },
   "source": [
    "**[TO DO]:** Check the local folder? In which format the dataset has been downloaded?\n",
    "\n",
    "**[TO DO]:** Select a format and load the dataset ."
   ]
  },
  {
   "cell_type": "code",
   "execution_count": 34,
   "metadata": {
    "id": "59A_u_4CAGIY"
   },
   "outputs": [
    {
     "data": {
      "text/plain": [
       "'w'"
      ]
     },
     "execution_count": 34,
     "metadata": {},
     "output_type": "execute_result"
    }
   ],
   "source": [
    "### TODO\n",
    "\n"
   ]
  },
  {
   "cell_type": "code",
   "execution_count": 36,
   "metadata": {
    "id": "36clsIOhq_CR"
   },
   "outputs": [
    {
     "name": "stdout",
     "output_type": "stream",
     "text": [
      "             City             DateTime  Temp  Pressure  WindSpeed  WindDir\n",
      "0         Aalborg  1980-03-01 00:00:00   5.0    1008.1       11.3    290.0\n",
      "1         Aalborg  1980-03-01 00:20:00   4.0       NaN        9.2    270.0\n",
      "2         Aalborg  1980-03-01 00:50:00   4.0       NaN        9.2    280.0\n",
      "3         Aalborg  1980-03-01 01:20:00   4.0       NaN        9.2    280.0\n",
      "4         Aalborg  1980-03-01 01:50:00   4.0       NaN        8.7    270.0\n",
      "...           ...                  ...   ...       ...        ...      ...\n",
      "2918145  Roskilde  2018-03-01 22:20:00  -5.0       NaN        5.1     70.0\n",
      "2918146  Roskilde  2018-03-01 22:50:00  -5.0       NaN        4.1     70.0\n",
      "2918147  Roskilde  2018-03-01 23:00:00  -5.3    1018.6        4.1     60.0\n",
      "2918148  Roskilde  2018-03-01 23:20:00  -5.0       NaN        3.6     60.0\n",
      "2918149  Roskilde  2018-03-01 23:50:00  -5.0       NaN        3.6     60.0\n",
      "\n",
      "[2918150 rows x 6 columns]\n"
     ]
    }
   ],
   "source": [
    "### TODO\n",
    "data_load = pd.read_csv(data_dir+\"weather-denmark.csv\")\n",
    "print(data_load)\n"
   ]
  },
  {
   "cell_type": "markdown",
   "metadata": {
    "id": "MN4_qGC4AGIc"
   },
   "source": [
    "**More advanced solution for loading dataset**:\n",
    "\n",
    "In this case, the dataset was downloaded in two different formats. \n",
    "We can define the path where the files have been stored as follows:\n",
    "- **path_original_data_pickle( )** is the location of the original data in pickle format\n",
    "- **path_original_data_csv( )** is the location the original data in .csv"
   ]
  },
  {
   "cell_type": "code",
   "execution_count": 37,
   "metadata": {
    "id": "NO8jevNRAGIc"
   },
   "outputs": [],
   "source": [
    "def path_original_data_pickle():\n",
    "    return os.path.join(data_dir, \"weather-denmark.pkl\")\n",
    "\n",
    "def path_original_data_csv():\n",
    "    return os.path.join(data_dir, \"weather-denmark.csv\")"
   ]
  },
  {
   "cell_type": "markdown",
   "metadata": {
    "id": "KoNQaCyAAGIg"
   },
   "source": [
    "Now we can load the data in pickle format through the following function:"
   ]
  },
  {
   "cell_type": "code",
   "execution_count": 38,
   "metadata": {
    "id": "JHdwG7c6AGIh"
   },
   "outputs": [],
   "source": [
    "def load_original_data():\n",
    "    return pd.read_pickle(path_original_data_pickle())"
   ]
  },
  {
   "cell_type": "code",
   "execution_count": 39,
   "metadata": {
    "id": "0-XPffh3AGIj"
   },
   "outputs": [
    {
     "data": {
      "text/html": [
       "<div>\n",
       "<style scoped>\n",
       "    .dataframe tbody tr th:only-of-type {\n",
       "        vertical-align: middle;\n",
       "    }\n",
       "\n",
       "    .dataframe tbody tr th {\n",
       "        vertical-align: top;\n",
       "    }\n",
       "\n",
       "    .dataframe thead th {\n",
       "        text-align: right;\n",
       "    }\n",
       "</style>\n",
       "<table border=\"1\" class=\"dataframe\">\n",
       "  <thead>\n",
       "    <tr style=\"text-align: right;\">\n",
       "      <th></th>\n",
       "      <th></th>\n",
       "      <th>Temp</th>\n",
       "      <th>Pressure</th>\n",
       "      <th>WindSpeed</th>\n",
       "      <th>WindDir</th>\n",
       "    </tr>\n",
       "    <tr>\n",
       "      <th>City</th>\n",
       "      <th>DateTime</th>\n",
       "      <th></th>\n",
       "      <th></th>\n",
       "      <th></th>\n",
       "      <th></th>\n",
       "    </tr>\n",
       "  </thead>\n",
       "  <tbody>\n",
       "    <tr>\n",
       "      <th rowspan=\"5\" valign=\"top\">Aalborg</th>\n",
       "      <th>1980-03-01 00:00:00</th>\n",
       "      <td>5.0</td>\n",
       "      <td>1008.1</td>\n",
       "      <td>11.3</td>\n",
       "      <td>290.0</td>\n",
       "    </tr>\n",
       "    <tr>\n",
       "      <th>1980-03-01 00:20:00</th>\n",
       "      <td>4.0</td>\n",
       "      <td>NaN</td>\n",
       "      <td>9.2</td>\n",
       "      <td>270.0</td>\n",
       "    </tr>\n",
       "    <tr>\n",
       "      <th>1980-03-01 00:50:00</th>\n",
       "      <td>4.0</td>\n",
       "      <td>NaN</td>\n",
       "      <td>9.2</td>\n",
       "      <td>280.0</td>\n",
       "    </tr>\n",
       "    <tr>\n",
       "      <th>1980-03-01 01:20:00</th>\n",
       "      <td>4.0</td>\n",
       "      <td>NaN</td>\n",
       "      <td>9.2</td>\n",
       "      <td>280.0</td>\n",
       "    </tr>\n",
       "    <tr>\n",
       "      <th>1980-03-01 01:50:00</th>\n",
       "      <td>4.0</td>\n",
       "      <td>NaN</td>\n",
       "      <td>8.7</td>\n",
       "      <td>270.0</td>\n",
       "    </tr>\n",
       "    <tr>\n",
       "      <th>...</th>\n",
       "      <th>...</th>\n",
       "      <td>...</td>\n",
       "      <td>...</td>\n",
       "      <td>...</td>\n",
       "      <td>...</td>\n",
       "    </tr>\n",
       "    <tr>\n",
       "      <th rowspan=\"5\" valign=\"top\">Roskilde</th>\n",
       "      <th>2018-03-01 22:20:00</th>\n",
       "      <td>-5.0</td>\n",
       "      <td>NaN</td>\n",
       "      <td>5.1</td>\n",
       "      <td>70.0</td>\n",
       "    </tr>\n",
       "    <tr>\n",
       "      <th>2018-03-01 22:50:00</th>\n",
       "      <td>-5.0</td>\n",
       "      <td>NaN</td>\n",
       "      <td>4.1</td>\n",
       "      <td>70.0</td>\n",
       "    </tr>\n",
       "    <tr>\n",
       "      <th>2018-03-01 23:00:00</th>\n",
       "      <td>-5.3</td>\n",
       "      <td>1018.6</td>\n",
       "      <td>4.1</td>\n",
       "      <td>60.0</td>\n",
       "    </tr>\n",
       "    <tr>\n",
       "      <th>2018-03-01 23:20:00</th>\n",
       "      <td>-5.0</td>\n",
       "      <td>NaN</td>\n",
       "      <td>3.6</td>\n",
       "      <td>60.0</td>\n",
       "    </tr>\n",
       "    <tr>\n",
       "      <th>2018-03-01 23:50:00</th>\n",
       "      <td>-5.0</td>\n",
       "      <td>NaN</td>\n",
       "      <td>3.6</td>\n",
       "      <td>60.0</td>\n",
       "    </tr>\n",
       "  </tbody>\n",
       "</table>\n",
       "<p>2918150 rows × 4 columns</p>\n",
       "</div>"
      ],
      "text/plain": [
       "                              Temp  Pressure  WindSpeed  WindDir\n",
       "City     DateTime                                               \n",
       "Aalborg  1980-03-01 00:00:00   5.0    1008.1       11.3    290.0\n",
       "         1980-03-01 00:20:00   4.0       NaN        9.2    270.0\n",
       "         1980-03-01 00:50:00   4.0       NaN        9.2    280.0\n",
       "         1980-03-01 01:20:00   4.0       NaN        9.2    280.0\n",
       "         1980-03-01 01:50:00   4.0       NaN        8.7    270.0\n",
       "...                            ...       ...        ...      ...\n",
       "Roskilde 2018-03-01 22:20:00  -5.0       NaN        5.1     70.0\n",
       "         2018-03-01 22:50:00  -5.0       NaN        4.1     70.0\n",
       "         2018-03-01 23:00:00  -5.3    1018.6        4.1     60.0\n",
       "         2018-03-01 23:20:00  -5.0       NaN        3.6     60.0\n",
       "         2018-03-01 23:50:00  -5.0       NaN        3.6     60.0\n",
       "\n",
       "[2918150 rows x 4 columns]"
      ]
     },
     "execution_count": 39,
     "metadata": {},
     "output_type": "execute_result"
    }
   ],
   "source": [
    "df = load_original_data()\n",
    "df"
   ]
  },
  {
   "cell_type": "markdown",
   "metadata": {
    "id": "DMCJQr_SAGIm"
   },
   "source": [
    "### - Undestanding the data\n",
    "\n",
    "**_[TO DO]_**: Have a quick overview of the downloaded dataset. \n",
    "In particular, focus on:\n",
    "\n",
    "- Understanding the variables contained in the dataframe\n",
    "- Check the DateTime for 2 cities"
   ]
  },
  {
   "cell_type": "code",
   "execution_count": 144,
   "metadata": {
    "id": "-_dXNZFqd6rk"
   },
   "outputs": [
    {
     "data": {
      "text/plain": [
       "MultiIndex([( 'Aalborg', '1980-03-01 00:00:00'),\n",
       "            ( 'Aalborg', '1980-03-01 00:20:00'),\n",
       "            ( 'Aalborg', '1980-03-01 00:50:00'),\n",
       "            ( 'Aalborg', '1980-03-01 01:20:00'),\n",
       "            ( 'Aalborg', '1980-03-01 01:50:00'),\n",
       "            ( 'Aalborg', '1980-03-01 02:20:00'),\n",
       "            ( 'Aalborg', '1980-03-01 03:00:00'),\n",
       "            ( 'Aalborg', '1980-03-01 03:20:00'),\n",
       "            ( 'Aalborg', '1980-03-01 04:00:00'),\n",
       "            ( 'Aalborg', '1980-03-01 04:01:00'),\n",
       "            ...\n",
       "            ('Roskilde', '2018-03-01 20:50:00'),\n",
       "            ('Roskilde', '2018-03-01 21:00:00'),\n",
       "            ('Roskilde', '2018-03-01 21:20:00'),\n",
       "            ('Roskilde', '2018-03-01 21:50:00'),\n",
       "            ('Roskilde', '2018-03-01 22:00:00'),\n",
       "            ('Roskilde', '2018-03-01 22:20:00'),\n",
       "            ('Roskilde', '2018-03-01 22:50:00'),\n",
       "            ('Roskilde', '2018-03-01 23:00:00'),\n",
       "            ('Roskilde', '2018-03-01 23:20:00'),\n",
       "            ('Roskilde', '2018-03-01 23:50:00')],\n",
       "           names=['City', 'DateTime'], length=2918150)"
      ]
     },
     "execution_count": 144,
     "metadata": {},
     "output_type": "execute_result"
    }
   ],
   "source": [
    "### TODO\n",
    "\n",
    "df.index"
   ]
  },
  {
   "cell_type": "markdown",
   "metadata": {
    "id": "ZYcAldYgeOmq"
   },
   "source": [
    "## 2.2 - Interacting with a server to query a subset of some data bank\n",
    "\n",
    "We will now learn how to query a data bank to retrieve only the relevant proportion data for a task. We will be using the World Bank Data API to access World's renewable energy consumtpion data. \n",
    "\n",
    "\n"
   ]
  },
  {
   "cell_type": "markdown",
   "metadata": {
    "id": "Pz0G-PnEllEE"
   },
   "source": [
    "You first need to install the World Bank API. In a terminal, run the following command:\n",
    "\n",
    "``>> pip install wbdata``\n",
    "\n"
   ]
  },
  {
   "cell_type": "code",
   "execution_count": null,
   "metadata": {
    "colab": {
     "base_uri": "https://localhost:8080/",
     "height": 230
    },
    "executionInfo": {
     "elapsed": 5409,
     "status": "ok",
     "timestamp": 1603899607656,
     "user": {
      "displayName": "Sephora Madjiheurem",
      "photoUrl": "https://lh3.googleusercontent.com/a-/AOh14GgieP2Hh5x42748iuuSEnAl8BYCWGSmOzJ-ypgSaQ=s64",
      "userId": "05055971560005673839"
     },
     "user_tz": 0
    },
    "id": "pKP6WMKA3YTH",
    "outputId": "b822a83a-4f1f-4ef3-88e6-ada5dc8e99a5"
   },
   "outputs": [],
   "source": [
    "%pip install wbdata"
   ]
  },
  {
   "cell_type": "code",
   "execution_count": 42,
   "metadata": {
    "cellView": "form",
    "executionInfo": {
     "elapsed": 496,
     "status": "ok",
     "timestamp": 1603899609741,
     "user": {
      "displayName": "Sephora Madjiheurem",
      "photoUrl": "https://lh3.googleusercontent.com/a-/AOh14GgieP2Hh5x42748iuuSEnAl8BYCWGSmOzJ-ypgSaQ=s64",
      "userId": "05055971560005673839"
     },
     "user_tz": 0
    },
    "id": "TpOO5F8YkxyR"
   },
   "outputs": [],
   "source": [
    "#@title Imports\n",
    "import wbdata as wb\n",
    "import datetime"
   ]
  },
  {
   "cell_type": "markdown",
   "metadata": {
    "id": "7OJzq_rWmGa-"
   },
   "source": [
    "### - Query the World Bank\n",
    "\n",
    "* **_[TO DO]_**: Use the wbdata to retrieve renewable energy consumption data of all countries in 2015.\n",
    "\n",
    "Hint: [wbdata documentation](https://wbdata.readthedocs.io/en/stable/)"
   ]
  },
  {
   "cell_type": "code",
   "execution_count": 157,
   "metadata": {
    "id": "RXwfBzicmFO3"
   },
   "outputs": [],
   "source": [
    "### TODO\n",
    "wb.search_indicators(\"Renewable energy consumption\")\n",
    "data_date = datetime.datetime(2015, 1, 1)                                                                                             \n",
    "content=wb.api.get_dataframe({\"EG.FEC.RNEW.ZS\":1},country=\"all\",data_date=data_date)                                                                                    \n"
   ]
  },
  {
   "cell_type": "markdown",
   "metadata": {
    "id": "0FB_UE-0nSeX"
   },
   "source": [
    "### - Undestanding the data\n",
    "\n",
    "* **_[TO DO]_**: Display different data points "
   ]
  },
  {
   "cell_type": "code",
   "execution_count": 155,
   "metadata": {
    "id": "TLsp11GKn8Ai"
   },
   "outputs": [
    {
     "name": "stdout",
     "output_type": "stream",
     "text": [
      "                                    0\n",
      "country                              \n",
      "BES Islands                  2.969877\n",
      "Nauru                        0.076290\n",
      "Niue                        22.368127\n",
      "Wallis and Futuna            0.000000\n",
      "Caucasian and Central Asia        NaN\n",
      "...                               ...\n",
      "West Bank and Gaza          10.472715\n",
      "Western Sahara                    NaN\n",
      "Yemen, Rep.                  2.276417\n",
      "Zambia                      87.985452\n",
      "Zimbabwe                    81.797809\n",
      "\n",
      "[259 rows x 1 columns]\n",
      " \n",
      "                                       0\n",
      "country                                 \n",
      "BES Islands                    112.78860\n",
      "Nauru                            0.32988\n",
      "Niue                            16.63123\n",
      "Wallis and Futuna                0.00000\n",
      "Caucasian and Central Asia           NaN\n",
      "...                                  ...\n",
      "West Bank and Gaza            6701.55000\n",
      "Western Sahara                   0.00000\n",
      "Yemen, Rep.                   2433.20100\n",
      "Zambia                      301679.80000\n",
      "Zimbabwe                    324422.60000\n",
      "\n",
      "[259 rows x 1 columns]\n"
     ]
    }
   ],
   "source": [
    "### TODO\n",
    "#print(wb.search_indicators(\"energy\"))\n",
    "content1=wb.api.get_dataframe({\"2.1_SHARE.TOTAL.RE.IN.TFEC\":0},country=\"all\",data_date=data_date)\n",
    "print(content1)\n",
    "content2=wb.api.get_dataframe({\"3.1_RE.CONSUMPTION\":0},country=\"all\",data_date=data_date)\n",
    "print(\" \")\n",
    "print(content2)\n"
   ]
  },
  {
   "cell_type": "markdown",
   "metadata": {
    "id": "o52Lnoq5olC9"
   },
   "source": [
    "### - Exporting the data \n",
    "\n",
    "* **_[TO DO]_**: Save the retrieved renewable energy consumption data of all countries in 2015 in one .xlsx file\n",
    "* **_[TO DO]_**: Save the renewable energy consumption data from 2006 to 2016 for each European country in individual .csv files (one per country)"
   ]
  },
  {
   "cell_type": "code",
   "execution_count": 159,
   "metadata": {
    "id": "-k6RXRXBpduC"
   },
   "outputs": [
    {
     "data": {
      "text/plain": [
       "'country,1\\r\\nAfrica Eastern and Southern,61.1063974749704\\r\\nAfrica Western and Central,76.752856699044\\r\\nArab World,4.12690239382602\\r\\nCaribbean small states,6.89381284435208\\r\\nCentral Europe and the Baltics,17.144631348737\\r\\nEarly-demographic dividend,23.6574259960237\\r\\nEast Asia & Pacific,13.0562055082552\\r\\nEast Asia & Pacific (excluding high income),14.8690817781866\\r\\nEast Asia & Pacific (IDA & IBRD countries),14.8431496481352\\r\\nEuro area,16.1942878690272\\r\\nEurope & Central Asia,13.0065831169695\\r\\nEurope & Central Asia (excluding high income),5.7477741128909\\r\\nEurope & Central Asia (IDA & IBRD countries),6.99004408613412\\r\\nEuropean Union,17.6270561092927\\r\\nFragile and conflict affected situations,63.130616021106\\r\\nHeavily indebted poor countries (HIPC),76.7977768498813\\r\\nHigh income,11.4209065390815\\r\\nIBRD only,16.4425442876093\\r\\nIDA & IBRD total,21.9013526983275\\r\\nIDA blend,61.6434856872454\\r\\nIDA only,69.691559435339\\r\\nIDA total,65.7961833191547\\r\\nLate-demographic dividend,13.9935230928195\\r\\nLatin America & Caribbean,27.9099109472872\\r\\nLatin America & Caribbean (excluding high income),29.1672406836058\\r\\nLatin America & the Caribbean (IDA & IBRD countries),28.1618380640541\\r\\nLeast developed countries: UN classification,72.9504859508311\\r\\nLow & middle income,22.0235633263281\\r\\nLow income,77.1381081120343\\r\\nLower middle income,33.2534311439495\\r\\nMiddle East & North Africa,1.55730238717952\\r\\nMiddle East & North Africa (excluding high income),2.52380051010893\\r\\nMiddle East & North Africa (IDA & IBRD countries),2.48160059775106\\r\\nMiddle income,20.1635432061035\\r\\nNorth America,10.5276442406274\\r\\nNot classified,\\r\\nOECD members,12.3483235866029\\r\\nOther small states,27.0121799013553\\r\\nPacific island small states,30.4016686716974\\r\\nPost-demographic dividend,11.9558341809506\\r\\nPre-demographic dividend,73.6090447910187\\r\\nSmall states,23.7472054844809\\r\\nSouth Asia,35.9721634093208\\r\\nSouth Asia (IDA & IBRD),35.9721634093208\\r\\nSub-Saharan Africa,67.5260316445087\\r\\nSub-Saharan Africa (excluding high income),67.541882936207\\r\\nSub-Saharan Africa (IDA & IBRD countries),67.5260316445087\\r\\nUpper middle income,13.6651849824357\\r\\nWorld,17.5427829739106\\r\\nAfghanistan,17.53\\r\\nAlbania,38.47\\r\\nAlgeria,0.06\\r\\nAmerican Samoa,0.23\\r\\nAndorra,19.32\\r\\nAngola,47.84\\r\\nAntigua and Barbuda,0.48\\r\\nArgentina,9.4\\r\\nArmenia,10.74\\r\\nAruba,6.73\\r\\nAustralia,9.31\\r\\nAustria,34.82\\r\\nAzerbaijan,2.33\\r\\n\"Bahamas, The\",1.54\\r\\nBahrain,0.0\\r\\nBangladesh,31.93\\r\\nBarbados,3.16\\r\\nBelarus,6.83\\r\\nBelgium,9.37\\r\\nBelize,30.34\\r\\nBenin,49.94\\r\\nBermuda,0.55\\r\\nBhutan,86.68\\r\\nBolivia,8.02\\r\\nBosnia and Herzegovina,25.28\\r\\nBotswana,25.58\\r\\nBrazil,43.62\\r\\nBritish Virgin Islands,1.0\\r\\nBrunei Darussalam,0.01\\r\\nBulgaria,17.85\\r\\nBurkina Faso,72.71\\r\\nBurundi,91.15\\r\\nCabo Verde,26.35\\r\\nCambodia,60.63\\r\\nCameroon,78.06\\r\\nCanada,22.69\\r\\nCayman Islands,0.01\\r\\nCentral African Republic,92.86\\r\\nChad,77.35\\r\\nChannel Islands,\\r\\nChile,25.07\\r\\nChina,12.18\\r\\nColombia,31.6\\r\\nComoros,64.17\\r\\n\"Congo, Dem. Rep.\",95.82\\r\\n\"Congo, Rep.\",64.15\\r\\nCosta Rica,38.33\\r\\nCote d\\'Ivoire,64.51\\r\\nCroatia,33.09\\r\\nCuba,21.15\\r\\nCuracao,1.6\\r\\nCyprus,10.51\\r\\nCzechia,14.84\\r\\nDenmark,32.89\\r\\nDjibouti,28.18\\r\\nDominica,8.8\\r\\nDominican Republic,14.88\\r\\nEcuador,13.07\\r\\n\"Egypt, Arab Rep.\",5.45\\r\\nEl Salvador,21.03\\r\\nEquatorial Guinea,4.56\\r\\nEritrea,77.56\\r\\nEstonia,28.16\\r\\nEswatini,71.68\\r\\nEthiopia,91.56\\r\\nFaroe Islands,7.47\\r\\nFiji,32.74\\r\\nFinland,43.23\\r\\nFrance,13.34\\r\\nFrench Polynesia,7.83\\r\\nGabon,81.95\\r\\n\"Gambia, The\",48.95\\r\\nGeorgia,28.15\\r\\nGermany,14.55\\r\\nGhana,44.02\\r\\nGibraltar,0.0\\r\\nGreece,17.47\\r\\nGreenland,12.72\\r\\nGrenada,11.07\\r\\nGuam,1.26\\r\\nGuatemala,63.4\\r\\nGuinea,76.23\\r\\nGuinea-Bissau,87.15\\r\\nGuyana,24.95\\r\\nHaiti,76.12\\r\\nHonduras,52.68\\r\\n\"Hong Kong SAR, China\",0.2\\r\\nHungary,15.6\\r\\nIceland,77.33\\r\\nIndia,33.4\\r\\nIndonesia,26.69\\r\\n\"Iran, Islamic Rep.\",0.91\\r\\nIraq,0.82\\r\\nIreland,9.2\\r\\nIsle of Man,2.17\\r\\nIsrael,3.74\\r\\nItaly,16.57\\r\\nJamaica,12.12\\r\\nJapan,6.16\\r\\nJordan,3.19\\r\\nKazakhstan,1.72\\r\\nKenya,72.04\\r\\nKiribati,45.73\\r\\n\"Korea, Dem. People\\'s Rep.\",23.31\\r\\n\"Korea, Rep.\",2.74\\r\\nKosovo,20.37\\r\\nKuwait,0.01\\r\\nKyrgyz Republic,23.3\\r\\nLao PDR,53.27\\r\\nLatvia,38.1\\r\\nLebanon,4.17\\r\\nLesotho,44.94\\r\\nLiberia,83.93\\r\\nLibya,3.05\\r\\nLiechtenstein,55.53\\r\\nLithuania,28.96\\r\\nLuxembourg,9.09\\r\\n\"Macao SAR, China\",5.41\\r\\nMadagascar,80.55\\r\\nMalawi,80.87\\r\\nMalaysia,3.41\\r\\nMaldives,1.38\\r\\nMali,79.93\\r\\nMalta,5.98\\r\\nMarshall Islands,11.32\\r\\nMauritania,28.2\\r\\nMauritius,11.49\\r\\nMexico,9.19\\r\\n\"Micronesia, Fed. Sts.\",1.44\\r\\nMoldova,24.73\\r\\nMonaco,\\r\\nMongolia,3.55\\r\\nMontenegro,42.96\\r\\nMorocco,11.25\\r\\nMozambique,80.8\\r\\nMyanmar,70.43\\r\\nNamibia,28.99\\r\\nNauru,0.1\\r\\nNepal,85.04\\r\\nNetherlands,5.72\\r\\nNew Caledonia,5.09\\r\\nNew Zealand,31.24\\r\\nNicaragua,50.0\\r\\nNiger,78.88\\r\\nNigeria,82.15\\r\\nNorth Macedonia,23.91\\r\\nNorthern Mariana Islands,0.0\\r\\nNorway,58.12\\r\\nOman,0.0\\r\\nPakistan,45.88\\r\\nPalau,0.04\\r\\nPanama,21.9\\r\\nPapua New Guinea,55.15\\r\\nParaguay,60.51\\r\\nPeru,27.43\\r\\nPhilippines,30.75\\r\\nPoland,11.87\\r\\nPortugal,27.21\\r\\nPuerto Rico,1.86\\r\\nQatar,0.05\\r\\nRomania,23.67\\r\\nRussian Federation,3.2\\r\\nRwanda,86.31\\r\\nSamoa,37.47\\r\\nSan Marino,\\r\\nSao Tome and Principe,40.23\\r\\nSaudi Arabia,0.01\\r\\nSenegal,39.11\\r\\nSerbia,21.24\\r\\nSeychelles,1.36\\r\\nSierra Leone,75.0\\r\\nSingapore,0.65\\r\\nSint Maarten (Dutch part),0.05\\r\\nSlovak Republic,13.41\\r\\nSlovenia,21.38\\r\\nSolomon Islands,48.64\\r\\nSomalia,94.5\\r\\nSouth Africa,10.28\\r\\nSouth Sudan,26.7\\r\\nSpain,16.33\\r\\nSri Lanka,52.89\\r\\nSt. Kitts and Nevis,1.63\\r\\nSt. Lucia,11.52\\r\\nSt. Martin (French part),\\r\\nSt. Vincent and the Grenadines,4.3\\r\\nSudan,63.02\\r\\nSuriname,11.59\\r\\nSweden,51.91\\r\\nSwitzerland,23.94\\r\\nSyrian Arab Republic,0.58\\r\\nTajikistan,48.11\\r\\nTanzania,84.62\\r\\nThailand,22.65\\r\\nTimor-Leste,18.0\\r\\nTogo,81.03\\r\\nTonga,1.94\\r\\nTrinidad and Tobago,0.37\\r\\nTunisia,12.5\\r\\nTurkiye,13.34\\r\\nTurkmenistan,0.05\\r\\nTurks and Caicos Islands,0.37\\r\\nTuvalu,3.88\\r\\nUganda,91.07\\r\\nUkraine,4.15\\r\\nUnited Arab Emirates,0.13\\r\\nUnited Kingdom,8.61\\r\\nUnited States,9.03\\r\\nUruguay,59.4\\r\\nUzbekistan,1.71\\r\\nVanuatu,35.91\\r\\n\"Venezuela, RB\",15.33\\r\\nVietnam,30.33\\r\\nVirgin Islands (U.S.),4.16\\r\\nWest Bank and Gaza,10.99\\r\\n\"Yemen, Rep.\",1.96\\r\\nZambia,83.09\\r\\nZimbabwe,80.82\\r\\n'"
      ]
     },
     "execution_count": 159,
     "metadata": {},
     "output_type": "execute_result"
    }
   ],
   "source": [
    "### TODO\n",
    "content.to_excel(\"Renewable.xlsx\")\n",
    "wb.search_countries(\"Eu\")\n",
    "wb.search_indicators(\"energy consumption\")\n",
    "data_date = datetime.datetime(2006, 1, 1), datetime.datetime(2007, 1, 1), datetime.datetime(2008, 1, 1),\n",
    "datetime.datetime(2009, 1, 1), datetime.datetime(2010, 1, 1), datetime.datetime(2011, 1, 1), datetime.datetime(2012, 1, 1), \n",
    "datetime.datetime(2013, 1, 1), datetime.datetime(2014, 1, 1), datetime.datetime(2015, 1, 1), datetime.datetime(2016, 1, 1)\n",
    "#content=wb.api.get_dataframe({\"EG.FEC.RNEW.ZS\":0},country=\"EUU\",data_date=data_date)     \n",
    "#print(data_date)\n",
    "#content1=wb.api.get_dataframe({\"2.1_SHARE.TOTAL.RE.IN.TFEC\":0},country=\"EUU\",data_date=data_date)  \n",
    "#content2=wb.api.get_dataframe({\"3.1_RE.CONSUMPTION\":0},country=\"EUU\",data_date=data_date)   \n",
    "content.to_csv()\n",
    "#i dont know how to solve this problem"
   ]
  }
 ],
 "metadata": {
  "colab": {
   "collapsed_sections": [],
   "name": "LAB1.ipynb",
   "provenance": [
    {
     "file_id": "1HXjyjuj11ovY200lbVrY4ksJrv4eEphn",
     "timestamp": 1603281631972
    }
   ]
  },
  "kernelspec": {
   "display_name": "Python 3.8.13 ('base')",
   "language": "python",
   "name": "python3"
  },
  "language_info": {
   "codemirror_mode": {
    "name": "ipython",
    "version": 3
   },
   "file_extension": ".py",
   "mimetype": "text/x-python",
   "name": "python",
   "nbconvert_exporter": "python",
   "pygments_lexer": "ipython3",
   "version": "3.8.13"
  },
  "vscode": {
   "interpreter": {
    "hash": "35a8629b69e963ab006e6e5917f57d130cd1b558c6f26e7146fb84d133c0b0a8"
   }
  }
 },
 "nbformat": 4,
 "nbformat_minor": 4
}
